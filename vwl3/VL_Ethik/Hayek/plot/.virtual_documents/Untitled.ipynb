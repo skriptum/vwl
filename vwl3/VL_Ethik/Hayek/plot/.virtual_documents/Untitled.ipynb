library(tidyverse)


freedom = read_csv("freedom.csv")



