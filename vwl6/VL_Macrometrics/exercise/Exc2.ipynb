{
 "cells": [
  {
   "cell_type": "markdown",
   "id": "9fad5651-0fcb-431c-a1fd-9b5cc2a43d50",
   "metadata": {},
   "source": [
    "# Exercise 2\n",
    "\n",
    "MacroMetrics"
   ]
  },
  {
   "cell_type": "markdown",
   "id": "287d1e91-40dd-4ed5-b3a8-4acde68e8c6c",
   "metadata": {},
   "source": [
    "### matrizen und Vektoren"
   ]
  },
  {
   "cell_type": "code",
   "execution_count": 1,
   "id": "e2635bc0-af1f-4b33-a923-ab3096086ebd",
   "metadata": {},
   "outputs": [
    {
     "data": {
      "text/html": [
       "<table><tr><th><i>vektor<i></th><th>1</th></tr><tr><th>1</th><td>0.5</td></tr><tr><th>2</th><td>1</td></tr></table>"
      ],
      "text/plain": [
       "vektor =    0.5000\n",
       "   1.0000\n"
      ]
     },
     "metadata": {},
     "output_type": "display_data"
    },
    {
     "data": {
      "text/html": [
       "<table><tr><th><i>matr<i></th><th>1</th><th>2</th></tr><tr><th>1</th><td>1</td><td>2</td></tr><tr><th>2</th><td>4</td><td>5</td></tr></table>"
      ],
      "text/plain": [
       "matr =    1   2\n",
       "   4   5\n"
      ]
     },
     "metadata": {},
     "output_type": "display_data"
    }
   ],
   "source": [
    "vektor = [0.5;1]\n",
    "matr = [1,2;4,5]"
   ]
  },
  {
   "cell_type": "code",
   "execution_count": 2,
   "id": "2815a2fa-505c-42e3-afcf-bb3b7e1eb004",
   "metadata": {},
   "outputs": [
    {
     "data": {
      "text/html": [
       "<table><tr><th><i>ans<i></th><th>1</th></tr><tr><th>1</th><td>2.5</td></tr><tr><th>2</th><td>7</td></tr></table>"
      ],
      "text/plain": [
       "ans =    2.5000\n",
       "   7.0000\n"
      ]
     },
     "metadata": {},
     "output_type": "display_data"
    }
   ],
   "source": [
    "matr * vektor"
   ]
  },
  {
   "cell_type": "markdown",
   "id": "9691010c-09d7-44bc-91c2-6af477e34939",
   "metadata": {},
   "source": [
    "### Operations"
   ]
  },
  {
   "cell_type": "code",
   "execution_count": 3,
   "id": "f4fa23e0-1325-4bdf-86d4-9eeab4635d84",
   "metadata": {},
   "outputs": [
    {
     "data": {
      "text/html": [
       "<table><tr><th><i>A_1<i></th><th>1</th><th>2</th></tr><tr><th>1</th><td>-1.66667</td><td>0.666667</td></tr><tr><th>2</th><td>1.33333</td><td>-0.333333</td></tr></table>"
      ],
      "text/plain": [
       "A_1 =   -1.6667   0.6667\n",
       "   1.3333  -0.3333\n"
      ]
     },
     "metadata": {},
     "output_type": "display_data"
    },
    {
     "data": {
      "text/html": [
       "<table><tr><th><i>x<i></th><th>1</th></tr><tr><th>1</th><td>-0.166667</td></tr><tr><th>2</th><td>0.333333</td></tr></table>"
      ],
      "text/plain": [
       "x =   -0.1667\n",
       "   0.3333\n"
      ]
     },
     "metadata": {},
     "output_type": "display_data"
    }
   ],
   "source": [
    "A_1 = inv(matr)\n",
    "x = A_1 * vektor"
   ]
  },
  {
   "cell_type": "code",
   "execution_count": 4,
   "id": "c312a847-8f7e-4f99-ac0b-4df0899d30ba",
   "metadata": {},
   "outputs": [
    {
     "data": {
      "text/html": [
       "<table><tr><th><i>ans<i></th><th>1</th><th>2</th></tr><tr><th>1</th><td>1.33333</td><td>-0.333333</td></tr></table>"
      ],
      "text/plain": [
       "ans =    1.3333  -0.3333\n"
      ]
     },
     "metadata": {},
     "output_type": "display_data"
    }
   ],
   "source": [
    "A_1(2,:) % letze Spalte (2)"
   ]
  },
  {
   "cell_type": "markdown",
   "id": "2c86dd34-344d-4c30-90d4-0c4f46e132de",
   "metadata": {},
   "source": [
    "### Funktionen\n",
    "\n",
    "Range Function"
   ]
  },
  {
   "cell_type": "code",
   "execution_count": 5,
   "id": "07110e4c-53fb-4137-a2dd-d4c9230e0d87",
   "metadata": {
    "scrolled": true
   },
   "outputs": [
    {
     "data": {
      "text/html": [
       "<table><tr><th><i>B<i></th><th>1</th><th>2</th><th>3</th><th>4</th><th>5</th><th>6</th><th>7</th><th>8</th><th>9</th><th>10</th><th>11</th><th>12</th><th>13</th></tr><tr><th>1</th><td>1</td><td>1.5</td><td>2</td><td>2.5</td><td>3</td><td>3.5</td><td>4</td><td>4.5</td><td>5</td><td>5.5</td><td>6</td><td>6.5</td><td>7</td></tr></table>"
      ],
      "text/plain": [
       "B =  Columns 1 through 8:\n",
       "\n",
       "   1.0000   1.5000   2.0000   2.5000   3.0000   3.5000   4.0000   4.5000\n",
       "\n",
       " Columns 9 through 13:\n",
       "\n",
       "   5.0000   5.5000   6.0000   6.5000   7.0000\n"
      ]
     },
     "metadata": {},
     "output_type": "display_data"
    }
   ],
   "source": [
    "B=[1:0.5:7] % von 1-7 in 0.5 schritten"
   ]
  },
  {
   "cell_type": "code",
   "execution_count": null,
   "id": "fe94688a-ac58-405b-a316-41c280490bbf",
   "metadata": {},
   "outputs": [],
   "source": []
  }
 ],
 "metadata": {
  "kernelspec": {
   "display_name": "Octave (xoctave)",
   "language": "Octave",
   "name": "xoctave"
  },
  "language_info": {
   "codemirror_mode": "octave",
   "file_extension": ".m",
   "mimetype": "text/x-octave",
   "name": "Octave",
   "nbconvert_exporter": "",
   "pygments_lexer": "octave",
   "version": "7.3.0"
  }
 },
 "nbformat": 4,
 "nbformat_minor": 5
}
